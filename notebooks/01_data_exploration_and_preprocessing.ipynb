{
 "cells": [
  {
   "cell_type": "code",
   "execution_count": 1,
   "id": "195201b7",
   "metadata": {},
   "outputs": [],
   "source": [
    "import pandas as pd\n",
    "import numpy as np\n",
    "import re # For regular expressions (used for title parsing)\n",
    "from nltk.corpus import stopwords # For tag cleaning\n",
    "import string # For punctuation\n",
    "\n",
    "# Define path to the data\n",
    "DATA_PATH = '../data/' "
   ]
  },
  {
   "cell_type": "code",
   "execution_count": 2,
   "id": "f53b4725",
   "metadata": {},
   "outputs": [],
   "source": [
    "# --- Loading the Datasets ---\n",
    "movies_df = pd.read_csv(DATA_PATH + 'movies.csv')\n",
    "ratings_df = pd.read_csv(DATA_PATH + 'ratings.csv')\n",
    "tags_df = pd.read_csv(DATA_PATH + 'tags.csv')\n",
    "links_df = pd.read_csv(DATA_PATH + 'links.csv')"
   ]
  },
  {
   "cell_type": "code",
   "execution_count": 3,
   "id": "b2ad1518",
   "metadata": {},
   "outputs": [
    {
     "name": "stdout",
     "output_type": "stream",
     "text": [
      "\n",
      "Processed movies_df:\n",
      "   movieId                  title_clean    year  \\\n",
      "0        1                    Toy Story  1995.0   \n",
      "1        2                      Jumanji  1995.0   \n",
      "2        3             Grumpier Old Men  1995.0   \n",
      "3        4            Waiting to Exhale  1995.0   \n",
      "4        5  Father of the Bride Part II  1995.0   \n",
      "\n",
      "                                         genres_list  \\\n",
      "0  [Adventure, Animation, Children, Comedy, Fantasy]   \n",
      "1                     [Adventure, Children, Fantasy]   \n",
      "2                                  [Comedy, Romance]   \n",
      "3                           [Comedy, Drama, Romance]   \n",
      "4                                           [Comedy]   \n",
      "\n",
      "                                    genres_str  \n",
      "0  Adventure Animation Children Comedy Fantasy  \n",
      "1                   Adventure Children Fantasy  \n",
      "2                               Comedy Romance  \n",
      "3                         Comedy Drama Romance  \n",
      "4                                       Comedy  \n",
      "<class 'pandas.core.frame.DataFrame'>\n",
      "RangeIndex: 9742 entries, 0 to 9741\n",
      "Data columns (total 7 columns):\n",
      " #   Column       Non-Null Count  Dtype  \n",
      "---  ------       --------------  -----  \n",
      " 0   movieId      9742 non-null   int64  \n",
      " 1   title        9742 non-null   object \n",
      " 2   genres       9742 non-null   object \n",
      " 3   year         9718 non-null   float64\n",
      " 4   title_clean  9742 non-null   object \n",
      " 5   genres_list  9742 non-null   object \n",
      " 6   genres_str   9742 non-null   object \n",
      "dtypes: float64(1), int64(1), object(5)\n",
      "memory usage: 532.9+ KB\n",
      "None\n",
      "\n",
      "Movies with no extracted year: 24\n",
      "['From Dusk Till Dawn 2: Texas Blood Money (1999) ', 'Babylon 5', 'Justice League: The New Frontier (2008) ', 'Assembly (Ji jie hao) (2007) ', '96 Minutes (2011) ', 'Superman/Doomsday (2007) ', 'Pocahontas II: Journey to a New World (1998) ', 'Runaway Brain (1995) ', 'Justice League: Doom (2012) ', '3 dev adam (Three Giant Men) (1973) ', 'Guilty of Romance (Koi no tsumi) (2011) ', 'Dead Snow 2: Red vs. Dead (2014) ', 'Ready Player One', 'Hyena Road', 'The Adventures of Sherlock Holmes and Doctor Watson', 'Nocturnal Animals', 'Paterson', 'Moonlight', 'The OA', 'Cosmos', 'Maria Bamford: Old Baby', 'Death Note: Desu nôto (2006–2007)', 'Generation Iron 2', 'Black Mirror']\n"
     ]
    }
   ],
   "source": [
    "processed_movies_df = movies_df.copy()\n",
    "\n",
    "# 1. Extract Year from Title\n",
    "def extract_year(title):\n",
    "    year_match = re.search(r'\\((\\d{4})\\)$', title)\n",
    "    if year_match:\n",
    "        return int(year_match.group(1))\n",
    "    return None\n",
    "\n",
    "processed_movies_df['year'] = processed_movies_df['title'].apply(extract_year)\n",
    "\n",
    "# Remove year from title string\n",
    "def clean_title(title):\n",
    "    return re.sub(r'\\s*\\(\\d{4}\\)$', '', title).strip()\n",
    "\n",
    "processed_movies_df['title_clean'] = processed_movies_df['title'].apply(clean_title)\n",
    "\n",
    "\n",
    "# 2. Process Genres\n",
    "# Split pipe-separated genres into a list\n",
    "processed_movies_df['genres_list'] = processed_movies_df['genres'].apply(lambda x: x.split('|'))\n",
    "\n",
    "# Handle '(no genres listed)' - replace with an empty list\n",
    "processed_movies_df['genres_list'] = processed_movies_df['genres_list'].apply(\n",
    "    lambda genres: [] if genres == ['(no genres listed)'] else genres\n",
    ")\n",
    "\n",
    "# Create a space-separated string of genres for TF-IDF\n",
    "processed_movies_df['genres_str'] = processed_movies_df['genres_list'].apply(lambda x: ' '.join(x))\n",
    "\n",
    "\n",
    "print(\"\\nProcessed movies_df:\")\n",
    "print(processed_movies_df[['movieId', 'title_clean', 'year', 'genres_list', 'genres_str']].head())\n",
    "print(processed_movies_df.info())\n",
    "\n",
    "# Checking for movies with no extracted year\n",
    "print(f\"\\nMovies with no extracted year: {processed_movies_df['year'].isnull().sum()}\")\n",
    "print(processed_movies_df[processed_movies_df['year'].isnull()]['title'].tolist())"
   ]
  },
  {
   "cell_type": "code",
   "execution_count": 4,
   "id": "e1b8baf2",
   "metadata": {},
   "outputs": [
    {
     "name": "stdout",
     "output_type": "stream",
     "text": [
      "\n",
      "--- Preprocessing tags.csv ---\n",
      "\n",
      "Aggregated and cleaned tags per movie:\n",
      "   movieId                           tags_aggregated_str\n",
      "0        1                               pixar pixar fun\n",
      "1        2  fantasy magic board game robin williams game\n",
      "2        3                                     moldy old\n",
      "3        5                              pregnancy remake\n",
      "4        7                                        remake\n",
      "Number of movies with aggregated tags: 1572\n"
     ]
    }
   ],
   "source": [
    "print(\"\\n--- Preprocessing tags.csv ---\")\n",
    "processed_tags_df = tags_df.copy()\n",
    "\n",
    "# Define stop words for English\n",
    "stop_words = set(stopwords.words('english'))\n",
    "\n",
    "def preprocess_tag(tag):\n",
    "    if pd.isnull(tag):\n",
    "        return \"\"\n",
    "    tag = str(tag).lower()  # Lowercase\n",
    "    tag = tag.translate(str.maketrans('', '', string.punctuation)) # Remove punctuation\n",
    "    # Tokenize and remove stopwords (simple whitespace tokenization here)\n",
    "    tokens = tag.split()\n",
    "    tokens = [word for word in tokens if word not in stop_words and word.isalpha() and len(word) > 1] # Keep only alpha words > 1 char\n",
    "    return \" \".join(tokens)\n",
    "\n",
    "processed_tags_df['tag_clean'] = processed_tags_df['tag'].apply(preprocess_tag)\n",
    "\n",
    "# Aggregate cleaned tags by movieId\n",
    "# Group by movieId and join the cleaned tags into a single string for each movie\n",
    "movie_tags_agg = processed_tags_df.groupby('movieId')['tag_clean'].apply(\n",
    "    lambda tags: ' '.join(tag for tag in tags if tag) # Join non-empty tags\n",
    ").reset_index()\n",
    "\n",
    "# Rename column for clarity\n",
    "movie_tags_agg.rename(columns={'tag_clean': 'tags_aggregated_str'}, inplace=True)\n",
    "\n",
    "print(\"\\nAggregated and cleaned tags per movie:\")\n",
    "print(movie_tags_agg.head())\n",
    "print(f\"Number of movies with aggregated tags: {len(movie_tags_agg)}\")"
   ]
  },
  {
   "cell_type": "code",
   "execution_count": 5,
   "id": "21dde26a",
   "metadata": {},
   "outputs": [
    {
     "name": "stdout",
     "output_type": "stream",
     "text": [
      "\n",
      "--- Merging DataFrames ---\n",
      "\n",
      "Combined movies_master_df:\n",
      "   movieId                  title_clean    year  \\\n",
      "0        1                    Toy Story  1995.0   \n",
      "1        2                      Jumanji  1995.0   \n",
      "2        3             Grumpier Old Men  1995.0   \n",
      "3        4            Waiting to Exhale  1995.0   \n",
      "4        5  Father of the Bride Part II  1995.0   \n",
      "\n",
      "                                    genres_str  \\\n",
      "0  Adventure Animation Children Comedy Fantasy   \n",
      "1                   Adventure Children Fantasy   \n",
      "2                               Comedy Romance   \n",
      "3                         Comedy Drama Romance   \n",
      "4                                       Comedy   \n",
      "\n",
      "                            tags_aggregated_str   tmdbId  \n",
      "0                               pixar pixar fun    862.0  \n",
      "1  fantasy magic board game robin williams game   8844.0  \n",
      "2                                     moldy old  15602.0  \n",
      "3                                                31357.0  \n",
      "4                              pregnancy remake  11862.0  \n",
      "<class 'pandas.core.frame.DataFrame'>\n",
      "RangeIndex: 9742 entries, 0 to 9741\n",
      "Data columns (total 9 columns):\n",
      " #   Column               Non-Null Count  Dtype  \n",
      "---  ------               --------------  -----  \n",
      " 0   movieId              9742 non-null   int64  \n",
      " 1   title                9742 non-null   object \n",
      " 2   genres               9742 non-null   object \n",
      " 3   year                 9718 non-null   float64\n",
      " 4   title_clean          9742 non-null   object \n",
      " 5   genres_list          9742 non-null   object \n",
      " 6   genres_str           9742 non-null   object \n",
      " 7   tags_aggregated_str  9742 non-null   object \n",
      " 8   tmdbId               9734 non-null   float64\n",
      "dtypes: float64(2), int64(1), object(6)\n",
      "memory usage: 685.1+ KB\n",
      "None\n",
      "\n",
      "NaNs in 'genres_str': 0\n",
      "NaNs in 'tags_aggregated_str': 0\n"
     ]
    }
   ],
   "source": [
    "print(\"\\n--- Merging DataFrames ---\")\n",
    "\n",
    "# Merge processed movies with aggregated tags\n",
    "# Use a left merge to keep all movies, even if they don't have tags\n",
    "movies_master_df = pd.merge(processed_movies_df, movie_tags_agg, on='movieId', how='left')\n",
    "\n",
    "# Fill NaN for movies that had no tags with an empty string\n",
    "movies_master_df['tags_aggregated_str'] = movies_master_df['tags_aggregated_str'].fillna('')\n",
    "\n",
    "# Merge with links_df to get tmdbId (useful for UI later)\n",
    "movies_master_df = pd.merge(movies_master_df, links_df[['movieId', 'tmdbId']], on='movieId', how='left')\n",
    "\n",
    "\n",
    "print(\"\\nCombined movies_master_df:\")\n",
    "# Select relevant columns for display\n",
    "display_cols = ['movieId', 'title_clean', 'year', 'genres_str', 'tags_aggregated_str', 'tmdbId']\n",
    "print(movies_master_df[display_cols].head())\n",
    "print(movies_master_df.info())\n",
    "\n",
    "# Check for any NaNs in crucial text fields after merge\n",
    "print(f\"\\nNaNs in 'genres_str': {movies_master_df['genres_str'].isnull().sum()}\")\n",
    "print(f\"NaNs in 'tags_aggregated_str': {movies_master_df['tags_aggregated_str'].isnull().sum()}\")"
   ]
  },
  {
   "cell_type": "code",
   "execution_count": 6,
   "id": "547d0745",
   "metadata": {},
   "outputs": [
    {
     "name": "stdout",
     "output_type": "stream",
     "text": [
      "\n",
      "--- Final Checks & Consistency ---\n",
      "NaNs in 'title_clean': 0\n",
      "All movieIds from ratings_df are present in movies_master_df.\n"
     ]
    }
   ],
   "source": [
    "print(\"\\n--- Final Checks & Consistency ---\")\n",
    "\n",
    "# Check for NaNs in key columns of movies_master_df\n",
    "print(f\"NaNs in 'title_clean': {movies_master_df['title_clean'].isnull().sum()}\")\n",
    "\n",
    "# Check if all movieIds in ratings exist in our master movie list\n",
    "movies_in_ratings = ratings_df['movieId'].unique()\n",
    "movies_in_master = movies_master_df['movieId'].unique()\n",
    "\n",
    "missing_from_master = set(movies_in_ratings) - set(movies_in_master)\n",
    "if missing_from_master:\n",
    "    print(f\"Warning: {len(missing_from_master)} movieIds from ratings_df are not in movies_master_df. Example: {list(missing_from_master)[:5]}\")\n",
    "else:\n",
    "    print(\"All movieIds from ratings_df are present in movies_master_df.\")"
   ]
  },
  {
   "cell_type": "code",
   "execution_count": 7,
   "id": "1d559b4b",
   "metadata": {},
   "outputs": [
    {
     "name": "stdout",
     "output_type": "stream",
     "text": [
      "\n",
      "Processed 'movies_master_df' saved to 'movies_processed.csv'\n"
     ]
    }
   ],
   "source": [
    "movies_master_df.to_csv(DATA_PATH + 'movies_processed.csv', index=False)\n",
    "print(\"\\nProcessed 'movies_master_df' saved to 'movies_processed.csv'\")"
   ]
  },
  {
   "cell_type": "code",
   "execution_count": null,
   "id": "604c0878",
   "metadata": {},
   "outputs": [],
   "source": []
  }
 ],
 "metadata": {
  "kernelspec": {
   "display_name": "Python 3",
   "language": "python",
   "name": "python3"
  },
  "language_info": {
   "codemirror_mode": {
    "name": "ipython",
    "version": 3
   },
   "file_extension": ".py",
   "mimetype": "text/x-python",
   "name": "python",
   "nbconvert_exporter": "python",
   "pygments_lexer": "ipython3",
   "version": "3.10.7"
  }
 },
 "nbformat": 4,
 "nbformat_minor": 5
}
